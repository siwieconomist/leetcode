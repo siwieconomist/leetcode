{
 "cells": [
  {
   "cell_type": "markdown",
   "metadata": {},
   "source": [
    "# This is a collection of leetcode questions from blind 75"
   ]
  },
  {
   "cell_type": "markdown",
   "metadata": {},
   "source": [
    "# 53. Max Subarrary (greedy)\n",
    "\n",
    "There are two approaches other than brute force.\n",
    "\n",
    "1. for loop twice, but precalculate within the subarray\n",
    "2. for loop once, make sure to add to subarrary if previous sum is larger than the next item"
   ]
  },
  {
   "cell_type": "code",
   "execution_count": 9,
   "metadata": {},
   "outputs": [
    {
     "name": "stdout",
     "output_type": "stream",
     "text": [
      "-2\n",
      "6\n"
     ]
    }
   ],
   "source": [
    "def max_sub(li):\n",
    "    max_num=li[0]\n",
    "    for i in range(len(li)):\n",
    "        pre=0\n",
    "        for j in range(i, len(li)):\n",
    "            pre=pre+li[j]\n",
    "            if pre>max_num:\n",
    "                max_num=pre \n",
    "    return max_num \n",
    "\n",
    "print(max_sub([-2]))\n",
    "print(max_sub([-2,1,-3,4,-1, 2,1,-5,4]))\n"
   ]
  },
  {
   "cell_type": "code",
   "execution_count": 13,
   "metadata": {},
   "outputs": [
    {
     "data": {
      "text/plain": [
       "6"
      ]
     },
     "execution_count": 13,
     "metadata": {},
     "output_type": "execute_result"
    }
   ],
   "source": [
    "def max_sub_oneloop(li):\n",
    "    max_num=li[0]\n",
    "    cursum=0\n",
    "    for i in li:\n",
    "        if cursum<0: # if cursum before the item is less than zero, does not make sense to include the cursum\n",
    "            cursum=0\n",
    "        \n",
    "        cursum+=i   # dont use else here because we will add the item anyway and evaluat on the next time \n",
    "        max_num=max(cursum, max_num)\n",
    "    return max_num \n",
    "\n",
    "max_sub_oneloop([-2,1,-3,4,-1, 2,1,-5,4])"
   ]
  },
  {
   "cell_type": "code",
   "execution_count": null,
   "metadata": {},
   "outputs": [],
   "source": []
  }
 ],
 "metadata": {
  "kernelspec": {
   "display_name": "Python 3.9.16 ('base')",
   "language": "python",
   "name": "python3"
  },
  "language_info": {
   "codemirror_mode": {
    "name": "ipython",
    "version": 3
   },
   "file_extension": ".py",
   "mimetype": "text/x-python",
   "name": "python",
   "nbconvert_exporter": "python",
   "pygments_lexer": "ipython3",
   "version": "3.9.16"
  },
  "orig_nbformat": 4,
  "vscode": {
   "interpreter": {
    "hash": "167a7884ebd7b4b8171a13f0db69ccec6d87b52ab87a3d3208edbbd0573e706b"
   }
  }
 },
 "nbformat": 4,
 "nbformat_minor": 2
}
